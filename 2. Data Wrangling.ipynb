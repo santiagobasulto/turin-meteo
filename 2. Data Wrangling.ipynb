{
 "cells": [
  {
   "cell_type": "code",
   "execution_count": 1,
   "id": "d0bbb411-30e9-420f-9075-8a630228fbbd",
   "metadata": {},
   "outputs": [],
   "source": [
    "import pandas as pd\n",
    "from pathlib import Path"
   ]
  },
  {
   "cell_type": "code",
   "execution_count": 2,
   "id": "94d29254-6e97-416c-8ff1-d074ae1d3f6a",
   "metadata": {},
   "outputs": [],
   "source": [
    "BASE_DATA_DIR = Path(\"data/\")\n",
    "HTML_BASE_DIR = BASE_DATA_DIR / 'html'\n",
    "assert HTML_BASE_DIR.exists()"
   ]
  },
  {
   "cell_type": "code",
   "execution_count": 3,
   "id": "06203b04-ce6d-408e-9799-4066e790e854",
   "metadata": {},
   "outputs": [
    {
     "name": "stdout",
     "output_type": "stream",
     "text": [
      "ls: data/1973_10.html: No such file or directory\n"
     ]
    }
   ],
   "source": [
    "!ls data/1973_10.html"
   ]
  },
  {
   "cell_type": "markdown",
   "id": "810a3210-badd-42db-8788-5504e4327b7c",
   "metadata": {},
   "source": [
    "Verify they're all parseable:"
   ]
  },
  {
   "cell_type": "code",
   "execution_count": 4,
   "id": "f5c4deee-863f-4138-a0f6-7b6c9a283602",
   "metadata": {},
   "outputs": [],
   "source": [
    "EXPECTED_COLUMNS = ['T Media', 'T min', 'T max', 'Precip.', 'Umidità', 'Vento Max',]"
   ]
  },
  {
   "cell_type": "code",
   "execution_count": 16,
   "id": "44dd84b3-9172-4dc7-a0b8-831321dfc2f9",
   "metadata": {},
   "outputs": [
    {
     "name": "stdout",
     "output_type": "stream",
     "text": [
      "All good!\n"
     ]
    }
   ],
   "source": [
    "issues = set()\n",
    "successful_dfs = {}\n",
    "for html_path in HTML_BASE_DIR.glob(\"*.html\"):\n",
    "    year, month = html_path.name.replace('.html', '').split(\"_\")\n",
    "    year, month = (int(year), int(month))\n",
    "    try:\n",
    "        with html_path.open() as fp:\n",
    "            dirty_df = pd.read_html(fp.read(), attrs = {'id': 'table-meteo-archivio'})[0]\n",
    "            assert (set(EXPECTED_COLUMNS) - set(dirty_df.columns)) == set()\n",
    "            dirty_df['Timestamp'] = dirty_df['Giorno'].apply(lambda g: pd.Timestamp(year, month, g))\n",
    "            dirty_df.set_index('Timestamp', inplace=True)\n",
    "        successful_dfs[(year, month)] = dirty_df\n",
    "    except Exception as exc:\n",
    "        issues.add(html_path.name)\n",
    "        raise exc\n",
    "print(\"All good!\")"
   ]
  },
  {
   "cell_type": "code",
   "execution_count": 18,
   "id": "71e79686-822b-43b6-84bf-3dfc9e901ab3",
   "metadata": {},
   "outputs": [],
   "source": [
    "import itertools\n",
    "def parse_string_column(column, *remove_sequences, known_sequences=['-', 'n/d']):\n",
    "    column = column.copy()\n",
    "    for seq in itertools.chain(remove_sequences, known_sequences):\n",
    "        column = column.str.replace(seq, '')\n",
    "    return pd.to_numeric(column)"
   ]
  },
  {
   "cell_type": "code",
   "execution_count": 26,
   "id": "f050e52d-d167-4b97-ba0d-7b2aa869fa6c",
   "metadata": {},
   "outputs": [],
   "source": [
    "clean_dataframes = []\n",
    "for (year, month), dirty_df in successful_dfs.items():\n",
    "    try:\n",
    "        clean_df = pd.concat([\n",
    "            \n",
    "            parse_string_column(dirty_df['T Media'], '°C').rename('Mean Temperature'),\n",
    "            parse_string_column(dirty_df['T min'], '°C').rename('Min Temperature'),\n",
    "            parse_string_column(dirty_df['T max'], '°C').rename('Max Temperature'),\n",
    "\n",
    "            parse_string_column(dirty_df['Vento Max'], 'km/h').rename('Max Wind'),\n",
    "            parse_string_column(dirty_df['Umidità'], '%').rename('Humidity') / 100,\n",
    "\n",
    "            parse_string_column(dirty_df['Precip.'], 'mm').rename('Rainfall'),\n",
    "\n",
    "        ], axis=1)\n",
    "    except Exception as exc:\n",
    "        print(f\"Issues with {year}, {month}\")\n",
    "        raise exc\n",
    "    clean_dataframes.append(clean_df)"
   ]
  },
  {
   "cell_type": "code",
   "execution_count": 31,
   "id": "da8607fe-e696-4444-94b6-12d31c4e5952",
   "metadata": {},
   "outputs": [],
   "source": [
    "df = pd.concat(clean_dataframes).sort_index()"
   ]
  },
  {
   "cell_type": "code",
   "execution_count": 32,
   "id": "96029cfc-1d0d-4ac0-98f5-4db3dad2369d",
   "metadata": {},
   "outputs": [
    {
     "name": "stdout",
     "output_type": "stream",
     "text": [
      "<class 'pandas.core.frame.DataFrame'>\n",
      "DatetimeIndex: 18494 entries, 1973-01-01 to 2023-08-20\n",
      "Data columns (total 6 columns):\n",
      " #   Column            Non-Null Count  Dtype  \n",
      "---  ------            --------------  -----  \n",
      " 0   Mean Temperature  18438 non-null  float64\n",
      " 1   Min Temperature   18436 non-null  float64\n",
      " 2   Max Temperature   18436 non-null  float64\n",
      " 3   Max Wind          16792 non-null  float64\n",
      " 4   Humidity          18375 non-null  float64\n",
      " 5   Rainfall          3220 non-null   float64\n",
      "dtypes: float64(6)\n",
      "memory usage: 1011.4 KB\n"
     ]
    }
   ],
   "source": [
    "df.info()"
   ]
  },
  {
   "cell_type": "code",
   "execution_count": 37,
   "id": "2248b24b-4949-4056-bfab-7d10a20389e3",
   "metadata": {},
   "outputs": [
    {
     "data": {
      "text/html": [
       "<div>\n",
       "<style scoped>\n",
       "    .dataframe tbody tr th:only-of-type {\n",
       "        vertical-align: middle;\n",
       "    }\n",
       "\n",
       "    .dataframe tbody tr th {\n",
       "        vertical-align: top;\n",
       "    }\n",
       "\n",
       "    .dataframe thead th {\n",
       "        text-align: right;\n",
       "    }\n",
       "</style>\n",
       "<table border=\"1\" class=\"dataframe\">\n",
       "  <thead>\n",
       "    <tr style=\"text-align: right;\">\n",
       "      <th></th>\n",
       "      <th>Mean Temperature</th>\n",
       "      <th>Min Temperature</th>\n",
       "      <th>Max Temperature</th>\n",
       "      <th>Max Wind</th>\n",
       "      <th>Humidity</th>\n",
       "      <th>Rainfall</th>\n",
       "    </tr>\n",
       "    <tr>\n",
       "      <th>Timestamp</th>\n",
       "      <th></th>\n",
       "      <th></th>\n",
       "      <th></th>\n",
       "      <th></th>\n",
       "      <th></th>\n",
       "      <th></th>\n",
       "    </tr>\n",
       "  </thead>\n",
       "  <tbody>\n",
       "    <tr>\n",
       "      <th>1973-01-01</th>\n",
       "      <td>4.3</td>\n",
       "      <td>1.0</td>\n",
       "      <td>6.0</td>\n",
       "      <td>20.2</td>\n",
       "      <td>0.95</td>\n",
       "      <td>42.0</td>\n",
       "    </tr>\n",
       "    <tr>\n",
       "      <th>1973-01-02</th>\n",
       "      <td>4.3</td>\n",
       "      <td>2.0</td>\n",
       "      <td>6.0</td>\n",
       "      <td>9.1</td>\n",
       "      <td>0.97</td>\n",
       "      <td>15.0</td>\n",
       "    </tr>\n",
       "    <tr>\n",
       "      <th>1973-01-03</th>\n",
       "      <td>5.9</td>\n",
       "      <td>3.0</td>\n",
       "      <td>10.0</td>\n",
       "      <td>7.2</td>\n",
       "      <td>0.94</td>\n",
       "      <td>6.0</td>\n",
       "    </tr>\n",
       "    <tr>\n",
       "      <th>1973-01-04</th>\n",
       "      <td>3.7</td>\n",
       "      <td>1.0</td>\n",
       "      <td>10.0</td>\n",
       "      <td>5.4</td>\n",
       "      <td>0.92</td>\n",
       "      <td>NaN</td>\n",
       "    </tr>\n",
       "    <tr>\n",
       "      <th>1973-01-05</th>\n",
       "      <td>4.5</td>\n",
       "      <td>1.0</td>\n",
       "      <td>7.0</td>\n",
       "      <td>5.4</td>\n",
       "      <td>0.90</td>\n",
       "      <td>NaN</td>\n",
       "    </tr>\n",
       "  </tbody>\n",
       "</table>\n",
       "</div>"
      ],
      "text/plain": [
       "            Mean Temperature  Min Temperature  Max Temperature  Max Wind  \\\n",
       "Timestamp                                                                  \n",
       "1973-01-01               4.3              1.0              6.0      20.2   \n",
       "1973-01-02               4.3              2.0              6.0       9.1   \n",
       "1973-01-03               5.9              3.0             10.0       7.2   \n",
       "1973-01-04               3.7              1.0             10.0       5.4   \n",
       "1973-01-05               4.5              1.0              7.0       5.4   \n",
       "\n",
       "            Humidity  Rainfall  \n",
       "Timestamp                       \n",
       "1973-01-01      0.95      42.0  \n",
       "1973-01-02      0.97      15.0  \n",
       "1973-01-03      0.94       6.0  \n",
       "1973-01-04      0.92       NaN  \n",
       "1973-01-05      0.90       NaN  "
      ]
     },
     "execution_count": 37,
     "metadata": {},
     "output_type": "execute_result"
    }
   ],
   "source": [
    "df.head()"
   ]
  },
  {
   "cell_type": "code",
   "execution_count": 38,
   "id": "c85b665e-d656-4d2d-a946-c6ca04cd1016",
   "metadata": {},
   "outputs": [],
   "source": [
    "df.to_csv('data/torino_meteo.csv')"
   ]
  },
  {
   "cell_type": "code",
   "execution_count": 39,
   "id": "4862fb62-83bf-4c50-b0c0-3a1c92e12daf",
   "metadata": {},
   "outputs": [
    {
     "name": "stdout",
     "output_type": "stream",
     "text": [
      "Timestamp,Mean Temperature,Min Temperature,Max Temperature,Max Wind,Humidity,Rainfall\n",
      "1973-01-01,4.3,1.0,6.0,20.2,0.95,42.0\n",
      "1973-01-02,4.3,2.0,6.0,9.1,0.97,15.0\n",
      "1973-01-03,5.9,3.0,10.0,7.2,0.94,6.0\n",
      "1973-01-04,3.7,1.0,10.0,5.4,0.92,\n",
      "1973-01-05,4.5,1.0,7.0,5.4,0.9,\n",
      "1973-01-06,0.6,2.0,3.0,,0.93,\n",
      "1973-01-07,0.1,3.0,5.0,,0.84,\n",
      "1973-01-08,1.9,3.0,10.0,,0.74,\n",
      "1973-01-09,1.6,3.0,8.0,,0.76,\n"
     ]
    }
   ],
   "source": [
    "!head data/torino_meteo.csv"
   ]
  }
 ],
 "metadata": {
  "kernelspec": {
   "display_name": "Python 3 (ipykernel)",
   "language": "python",
   "name": "python3"
  },
  "language_info": {
   "codemirror_mode": {
    "name": "ipython",
    "version": 3
   },
   "file_extension": ".py",
   "mimetype": "text/x-python",
   "name": "python",
   "nbconvert_exporter": "python",
   "pygments_lexer": "ipython3",
   "version": "3.11.4"
  }
 },
 "nbformat": 4,
 "nbformat_minor": 5
}
